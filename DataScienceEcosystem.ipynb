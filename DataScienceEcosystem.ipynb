{
 "cells": [
  {
   "cell_type": "markdown",
   "id": "56f7eabd-06c6-451d-aad3-ff3615b84c46",
   "metadata": {},
   "source": [
    "# Data Science Tools and Ecosystem"
   ]
  },
  {
   "cell_type": "markdown",
   "id": "a0dfa650-a77c-49f3-ae2b-0a448caa8652",
   "metadata": {},
   "source": [
    "## Author\n",
    "# Juayl"
   ]
  },
  {
   "cell_type": "markdown",
   "id": "c771b1c3-cdb6-4eeb-947f-00b03456b59a",
   "metadata": {},
   "source": [
    "**Objectives**\n",
    "- most popular languages\n",
    "- common libraries\n",
    "- tools\n",
    "- examples"
   ]
  },
  {
   "cell_type": "markdown",
   "id": "f309f512-b565-4494-8e67-8bcd4e09759b",
   "metadata": {},
   "source": [
    "## In this notebook, Data Science Tools and Ecosystem are summarized."
   ]
  },
  {
   "cell_type": "markdown",
   "id": "0cbfd1fb-c392-4b98-8b3c-f797f394f9aa",
   "metadata": {},
   "source": [
    "### Some of the most popular used languages for data science are\n",
    "#### 1. Python\n",
    "#### 2. R\n",
    "#### 3. SQL"
   ]
  },
  {
   "cell_type": "markdown",
   "id": "1cc26dce-15f5-414b-b440-3f4396873b58",
   "metadata": {},
   "source": [
    "### Some of the commonly used libraries used by Data Scientists include\n",
    "#### 1. Github\n",
    "#### 2. Pandas\n",
    "#### 3. NumPy"
   ]
  },
  {
   "cell_type": "markdown",
   "id": "1dc493f8-0d68-494f-a22f-ee35bdf53c9a",
   "metadata": {},
   "source": [
    "| Data Science Tools |\n",
    "| -------------|\n",
    "| Apache Hadoop | \n",
    "| SQL |\n",
    "| Tableau |"
   ]
  },
  {
   "cell_type": "markdown",
   "id": "3ed55a3f-2f18-42c4-8fba-fb04b6925a28",
   "metadata": {},
   "source": [
    "### Below are a few examples of evaluating arithmetic expressions in Python"
   ]
  },
  {
   "cell_type": "markdown",
   "id": "2777357a-7e98-4042-b193-00034bd304b8",
   "metadata": {},
   "source": [
    "#### This is a simple arithmetic expression to mutiply then add integers"
   ]
  },
  {
   "cell_type": "code",
   "execution_count": 11,
   "id": "bd712bd2-8b21-4b14-884d-969139d56b9b",
   "metadata": {},
   "outputs": [
    {
     "data": {
      "text/plain": [
       "17"
      ]
     },
     "execution_count": 11,
     "metadata": {},
     "output_type": "execute_result"
    }
   ],
   "source": [
    "(3*4)+5"
   ]
  },
  {
   "cell_type": "markdown",
   "id": "b8e57e54-ba81-4381-ade7-fe809ba9798f",
   "metadata": {},
   "source": [
    "###  This will convert 200 minutes to hours by diving by 60"
   ]
  },
  {
   "cell_type": "code",
   "execution_count": 13,
   "id": "89a06735-7c9d-444f-8120-c5084448207a",
   "metadata": {},
   "outputs": [
    {
     "data": {
      "text/plain": [
       "3.3333333333333335"
      ]
     },
     "execution_count": 13,
     "metadata": {},
     "output_type": "execute_result"
    }
   ],
   "source": [
    "200/60"
   ]
  },
  {
   "cell_type": "code",
   "execution_count": null,
   "id": "b92cfa7b-7a32-4e9e-8872-af5288ce16a6",
   "metadata": {},
   "outputs": [],
   "source": []
  }
 ],
 "metadata": {
  "kernelspec": {
   "display_name": "Python 3 (ipykernel)",
   "language": "python",
   "name": "python3"
  },
  "language_info": {
   "codemirror_mode": {
    "name": "ipython",
    "version": 3
   },
   "file_extension": ".py",
   "mimetype": "text/x-python",
   "name": "python",
   "nbconvert_exporter": "python",
   "pygments_lexer": "ipython3",
   "version": "3.12.4"
  }
 },
 "nbformat": 4,
 "nbformat_minor": 5
}
